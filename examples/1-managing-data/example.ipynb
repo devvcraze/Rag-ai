{
 "cells": [
  {
   "cell_type": "code",
   "execution_count": null,
   "id": "5ee6cf36-6dbd-4bbf-9c1a-e834e85ecde9",
   "metadata": {},
   "outputs": [],
   "source": [
    "import pandas as pd"
   ]
  },
  {
   "cell_type": "code",
   "execution_count": null,
   "id": "e40b418f-e33a-4009-b541-d37b065e99f9",
   "metadata": {},
   "outputs": [],
   "source": [
    "df = pd.read_csv('../../top_rated_wines.csv')\n",
    "df.head()"
   ]
  },
  {
   "cell_type": "code",
   "execution_count": null,
   "id": "a1576841-e94d-497d-94b2-7cfbaa8cdb28",
   "metadata": {},
   "outputs": [],
   "source": [
    "df.describe()"
   ]
  },
  {
   "cell_type": "code",
   "execution_count": null,
   "id": "613493e9-9dd6-4a3c-8c45-c1243e1ba229",
   "metadata": {},
   "outputs": [],
   "source": [
    "# Now let's create easy formatting for creating the embeddings\n",
    "df.to_dict('records')"
   ]
  },
  {
   "cell_type": "code",
   "execution_count": null,
   "id": "909c66de-77ad-4dbc-8087-0d3bf06d92f7",
   "metadata": {},
   "outputs": [],
   "source": []
  }
 ],
 "metadata": {
  "kernelspec": {
   "display_name": "Python 3 (ipykernel)",
   "language": "python",
   "name": "python3"
  },
  "language_info": {
   "codemirror_mode": {
    "name": "ipython",
    "version": 3
   },
   "file_extension": ".py",
   "mimetype": "text/x-python",
   "name": "python",
   "nbconvert_exporter": "python",
   "pygments_lexer": "ipython3",
   "version": "3.9.13"
  }
 },
 "nbformat": 4,
 "nbformat_minor": 5
}
