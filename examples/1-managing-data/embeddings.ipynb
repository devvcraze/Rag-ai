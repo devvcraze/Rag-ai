{
 "cells": [
  {
   "cell_type": "code",
   "execution_count": 22,
   "id": "d566bb99-6808-4976-8476-ed05b7941b80",
   "metadata": {},
   "outputs": [
    {
     "data": {
      "text/html": [
       "<div>\n",
       "<style scoped>\n",
       "    .dataframe tbody tr th:only-of-type {\n",
       "        vertical-align: middle;\n",
       "    }\n",
       "\n",
       "    .dataframe tbody tr th {\n",
       "        vertical-align: top;\n",
       "    }\n",
       "\n",
       "    .dataframe thead th {\n",
       "        text-align: right;\n",
       "    }\n",
       "</style>\n",
       "<table border=\"1\" class=\"dataframe\">\n",
       "  <thead>\n",
       "    <tr style=\"text-align: right;\">\n",
       "      <th></th>\n",
       "      <th>name</th>\n",
       "      <th>region</th>\n",
       "      <th>variety</th>\n",
       "      <th>rating</th>\n",
       "      <th>notes</th>\n",
       "    </tr>\n",
       "  </thead>\n",
       "  <tbody>\n",
       "    <tr>\n",
       "      <th>0</th>\n",
       "      <td>Abreu Vineyards Cappella 2010</td>\n",
       "      <td>Napa Valley, California</td>\n",
       "      <td>Red Wine</td>\n",
       "      <td>98.0</td>\n",
       "      <td>Cappella is one of the oldest vineyard sites i...</td>\n",
       "    </tr>\n",
       "    <tr>\n",
       "      <th>1</th>\n",
       "      <td>Abreu Vineyards Howell Mountain 2009</td>\n",
       "      <td>Howell Mountain, Napa Valley, California</td>\n",
       "      <td>Red Wine</td>\n",
       "      <td>98.0</td>\n",
       "      <td>As a set of wines, it is hard to surpass the f...</td>\n",
       "    </tr>\n",
       "    <tr>\n",
       "      <th>2</th>\n",
       "      <td>Abreu Vineyards Las Posadas Howell Mountain 2012</td>\n",
       "      <td>Howell Mountain, Napa Valley, California</td>\n",
       "      <td>Red Wine</td>\n",
       "      <td>99.0</td>\n",
       "      <td>At about 2000 feet elevation, Las Posadas sits...</td>\n",
       "    </tr>\n",
       "    <tr>\n",
       "      <th>3</th>\n",
       "      <td>Abreu Vineyards Madrona Ranch 1996</td>\n",
       "      <td>Napa Valley, California</td>\n",
       "      <td>Red Wine</td>\n",
       "      <td>98.0</td>\n",
       "      <td>Abreu Madrona Ranch is a blend of Cabernet Sau...</td>\n",
       "    </tr>\n",
       "    <tr>\n",
       "      <th>4</th>\n",
       "      <td>Abreu Vineyards Madrona Ranch 2005</td>\n",
       "      <td>Napa Valley, California</td>\n",
       "      <td>Red Wine</td>\n",
       "      <td>98.0</td>\n",
       "      <td>Abreu Madrona Ranch is a blend of Cabernet Sau...</td>\n",
       "    </tr>\n",
       "    <tr>\n",
       "      <th>...</th>\n",
       "      <td>...</td>\n",
       "      <td>...</td>\n",
       "      <td>...</td>\n",
       "      <td>...</td>\n",
       "      <td>...</td>\n",
       "    </tr>\n",
       "    <tr>\n",
       "      <th>357</th>\n",
       "      <td>L'Aventure Estate Cuvee 2016</td>\n",
       "      <td>Paso Robles, Central Coast, California</td>\n",
       "      <td>Red Wine</td>\n",
       "      <td>99.0</td>\n",
       "      <td>Blend: 52% Syrah, 32% Cabernet Sauvignon, 16% ...</td>\n",
       "    </tr>\n",
       "    <tr>\n",
       "      <th>358</th>\n",
       "      <td>Le Dome 2016</td>\n",
       "      <td>St. Emilion, Bordeaux, France</td>\n",
       "      <td>Red Wine</td>\n",
       "      <td>98.0</td>\n",
       "      <td>Blend: 80% Cabernet Franc, 20% Merlot</td>\n",
       "    </tr>\n",
       "    <tr>\n",
       "      <th>359</th>\n",
       "      <td>Leeuwin Estate Art Series Chardonnay 2001</td>\n",
       "      <td>Margaret River, Western Australia, Australia</td>\n",
       "      <td>White Wine</td>\n",
       "      <td>98.0</td>\n",
       "      <td>Number 24 on</td>\n",
       "    </tr>\n",
       "    <tr>\n",
       "      <th>360</th>\n",
       "      <td>Lewelling Wight Vineyard Cabernet Sauvignon 2008</td>\n",
       "      <td>Napa Valley, California</td>\n",
       "      <td>Red Wine</td>\n",
       "      <td>98.0</td>\n",
       "      <td>Sumptuous aromas of blackberry, cassis, Bing c...</td>\n",
       "    </tr>\n",
       "    <tr>\n",
       "      <th>361</th>\n",
       "      <td>Lewelling Wight Vineyard Cabernet Sauvignon 2007</td>\n",
       "      <td>St. Helena, Napa Valley, California</td>\n",
       "      <td>Red Wine</td>\n",
       "      <td>98.0</td>\n",
       "      <td>An enticing mix of black fruit, tobacco and to...</td>\n",
       "    </tr>\n",
       "  </tbody>\n",
       "</table>\n",
       "<p>357 rows × 5 columns</p>\n",
       "</div>"
      ],
      "text/plain": [
       "                                                 name  \\\n",
       "0                       Abreu Vineyards Cappella 2010   \n",
       "1                Abreu Vineyards Howell Mountain 2009   \n",
       "2    Abreu Vineyards Las Posadas Howell Mountain 2012   \n",
       "3                  Abreu Vineyards Madrona Ranch 1996   \n",
       "4                  Abreu Vineyards Madrona Ranch 2005   \n",
       "..                                                ...   \n",
       "357                      L'Aventure Estate Cuvee 2016   \n",
       "358                                      Le Dome 2016   \n",
       "359         Leeuwin Estate Art Series Chardonnay 2001   \n",
       "360  Lewelling Wight Vineyard Cabernet Sauvignon 2008   \n",
       "361  Lewelling Wight Vineyard Cabernet Sauvignon 2007   \n",
       "\n",
       "                                           region     variety  rating  \\\n",
       "0                         Napa Valley, California    Red Wine    98.0   \n",
       "1        Howell Mountain, Napa Valley, California    Red Wine    98.0   \n",
       "2        Howell Mountain, Napa Valley, California    Red Wine    99.0   \n",
       "3                         Napa Valley, California    Red Wine    98.0   \n",
       "4                         Napa Valley, California    Red Wine    98.0   \n",
       "..                                            ...         ...     ...   \n",
       "357        Paso Robles, Central Coast, California    Red Wine    99.0   \n",
       "358                 St. Emilion, Bordeaux, France    Red Wine    98.0   \n",
       "359  Margaret River, Western Australia, Australia  White Wine    98.0   \n",
       "360                       Napa Valley, California    Red Wine    98.0   \n",
       "361           St. Helena, Napa Valley, California    Red Wine    98.0   \n",
       "\n",
       "                                                 notes  \n",
       "0    Cappella is one of the oldest vineyard sites i...  \n",
       "1    As a set of wines, it is hard to surpass the f...  \n",
       "2    At about 2000 feet elevation, Las Posadas sits...  \n",
       "3    Abreu Madrona Ranch is a blend of Cabernet Sau...  \n",
       "4    Abreu Madrona Ranch is a blend of Cabernet Sau...  \n",
       "..                                                 ...  \n",
       "357  Blend: 52% Syrah, 32% Cabernet Sauvignon, 16% ...  \n",
       "358              Blend: 80% Cabernet Franc, 20% Merlot  \n",
       "359                                      Number 24 on   \n",
       "360  Sumptuous aromas of blackberry, cassis, Bing c...  \n",
       "361  An enticing mix of black fruit, tobacco and to...  \n",
       "\n",
       "[357 rows x 5 columns]"
      ]
     },
     "execution_count": 22,
     "metadata": {},
     "output_type": "execute_result"
    }
   ],
   "source": [
    "import pandas as pd\n",
    "df = pd.read_csv('../../top_rated_wines.csv')\n",
    "df = df[df['variety'].notna()] # remove any NaN values as it blows up serialization\n",
    "data = df.to_dict('records')\n",
    "df"
   ]
  },
  {
   "cell_type": "code",
   "execution_count": 9,
   "id": "af8bce2c-e123-498a-a5f2-cefffd17fc74",
   "metadata": {},
   "outputs": [],
   "source": [
    "from qdrant_client import models, QdrantClient\n",
    "from sentence_transformers import SentenceTransformer"
   ]
  },
  {
   "cell_type": "code",
   "execution_count": 10,
   "id": "2b0e4be5-7518-4458-bf47-6913ef9a72a9",
   "metadata": {},
   "outputs": [],
   "source": [
    "encoder = SentenceTransformer('all-MiniLM-L6-v2') # Model to create embeddings"
   ]
  },
  {
   "cell_type": "code",
   "execution_count": 11,
   "id": "5efa031d-b18a-4db1-9c34-9989a15c822b",
   "metadata": {},
   "outputs": [],
   "source": [
    "# create the vector database client\n",
    "qdrant = QdrantClient(\":memory:\") # Create in-memory Qdrant instance"
   ]
  },
  {
   "cell_type": "code",
   "execution_count": 12,
   "id": "6c03be93-a076-425e-8df1-5a8b6367e558",
   "metadata": {},
   "outputs": [
    {
     "data": {
      "text/plain": [
       "True"
      ]
     },
     "execution_count": 12,
     "metadata": {},
     "output_type": "execute_result"
    }
   ],
   "source": [
    "# Create collection to store books\n",
    "qdrant.recreate_collection(\n",
    "    collection_name=\"top_wines\",\n",
    "    vectors_config=models.VectorParams(\n",
    "        size=encoder.get_sentence_embedding_dimension(), # Vector size is defined by used model\n",
    "        distance=models.Distance.COSINE\n",
    "    )\n",
    ")"
   ]
  },
  {
   "cell_type": "code",
   "execution_count": 23,
   "id": "655d08af-758f-4338-b112-cf94045c7b0d",
   "metadata": {},
   "outputs": [],
   "source": [
    "# vectorize!\n",
    "qdrant.upload_points(\n",
    "    collection_name=\"top_wines\",\n",
    "    points=[\n",
    "        models.PointStruct(\n",
    "            id=idx,\n",
    "            vector=encoder.encode(doc[\"notes\"]).tolist(),\n",
    "            payload=doc\n",
    "        ) for idx, doc in enumerate(data) # data is the variable holding all the wines\n",
    "    ]\n",
    ")"
   ]
  },
  {
   "cell_type": "code",
   "execution_count": 24,
   "id": "68c9bff5-db38-4a98-b542-cd173af11b53",
   "metadata": {},
   "outputs": [
    {
     "name": "stdout",
     "output_type": "stream",
     "text": [
      "{'name': \"Anderson's Conn Valley Vineyards Cabernet Sauvignon Estate Reserve 2008\", 'region': 'Napa Valley, California', 'variety': 'Red Wine', 'rating': 98.0, 'notes': '100% Cabernet Sauvignon, 100% Estate grown.'} score: 0.7232318357735968\n",
      "{'name': \"Anderson's Conn Valley Vineyards Cabernet Sauvignon Reserve (1.5 Liter Magnum) 2008\", 'region': 'Napa Valley, California', 'variety': 'Red Wine', 'rating': 98.0, 'notes': '100% Cabernet Sauvignon, 100% Estate grown.'} score: 0.7232318357735968\n",
      "{'name': \"L'Aventure Estate Cuvee 2014\", 'region': 'Central Coast, California', 'variety': 'Red Wine', 'rating': 98.0, 'notes': 'Blend: 50% Cabernet Sauvignon, 35% Syrah, 15% Petit Verdot'} score: 0.6844836784212434\n"
     ]
    }
   ],
   "source": [
    "# Search time for awesome wines!\n",
    "\n",
    "hits = qdrant.search(\n",
    "    collection_name=\"top_wines\",\n",
    "    query_vector=encoder.encode(\"99 points Cabernet Sauvignon from Napa Valley\").tolist(),\n",
    "    limit=3\n",
    ")\n",
    "for hit in hits:\n",
    "  print(hit.payload, \"score:\", hit.score)"
   ]
  },
  {
   "cell_type": "code",
   "execution_count": null,
   "id": "33243e5d-9e0d-4ec4-98e9-3fc56b8bdb10",
   "metadata": {},
   "outputs": [],
   "source": []
  }
 ],
 "metadata": {
  "kernelspec": {
   "display_name": "Python 3 (ipykernel)",
   "language": "python",
   "name": "python3"
  },
  "language_info": {
   "codemirror_mode": {
    "name": "ipython",
    "version": 3
   },
   "file_extension": ".py",
   "mimetype": "text/x-python",
   "name": "python",
   "nbconvert_exporter": "python",
   "pygments_lexer": "ipython3",
   "version": "3.9.13"
  }
 },
 "nbformat": 4,
 "nbformat_minor": 5
}
